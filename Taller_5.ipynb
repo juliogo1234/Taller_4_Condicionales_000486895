{
  "nbformat": 4,
  "nbformat_minor": 0,
  "metadata": {
    "colab": {
      "provenance": [],
      "authorship_tag": "ABX9TyMj8Rdb9ZfNRYPoAShq6MGh",
      "include_colab_link": true
    },
    "kernelspec": {
      "name": "python3",
      "display_name": "Python 3"
    },
    "language_info": {
      "name": "python"
    }
  },
  "cells": [
    {
      "cell_type": "markdown",
      "metadata": {
        "id": "view-in-github",
        "colab_type": "text"
      },
      "source": [
        "<a href=\"https://colab.research.google.com/github/juliogo1234/Taller_4_Condicionales_000486895/blob/main/Taller_5.ipynb\" target=\"_parent\"><img src=\"https://colab.research.google.com/assets/colab-badge.svg\" alt=\"Open In Colab\"/></a>"
      ]
    },
    {
      "cell_type": "markdown",
      "source": [
        "**Taller N°5**\n",
        "//\n",
        "Ciclos en Python\n",
        "\n",
        "curso de programcion y algorimia UPB 2023\n",
        "\n",
        "\n",
        "\n",
        "*   Nombre: Julio Cesar Jaramillo\n",
        "*   Id: 000486895\n",
        "\n"
      ],
      "metadata": {
        "id": "SAUqoCx9IuwZ"
      }
    },
    {
      "cell_type": "markdown",
      "source": [
        "punto 1"
      ],
      "metadata": {
        "id": "huCKlDjr5BE-"
      }
    },
    {
      "cell_type": "code",
      "execution_count": 14,
      "metadata": {
        "colab": {
          "base_uri": "https://localhost:8080/"
        },
        "id": "Ud8JPTUjIps3",
        "outputId": "30dbc00d-2b3c-47b2-e170-c6e527ad4a7c"
      },
      "outputs": [
        {
          "output_type": "stream",
          "name": "stdout",
          "text": [
            "Ingrese un Número: 4\n",
            "1\n",
            "2\n",
            "3\n"
          ]
        }
      ],
      "source": [
        "a=1\n",
        "b=int(input(\"Ingrese un Número: \"))\n",
        "\n",
        "while a<b:\n",
        "  print(a)\n",
        "  a+=1"
      ]
    },
    {
      "cell_type": "markdown",
      "source": [
        "Punto 2"
      ],
      "metadata": {
        "id": "hh0qZvo5KHLw"
      }
    },
    {
      "cell_type": "code",
      "source": [
        "a=0\n",
        "for i in range(101):\n",
        "    if i%2==0:\n",
        "      a+=i\n",
        "print(a)"
      ],
      "metadata": {
        "colab": {
          "base_uri": "https://localhost:8080/"
        },
        "id": "CH_v2oksKJqR",
        "outputId": "574c2507-3e54-4376-c660-b4a90c7ed9d8"
      },
      "execution_count": null,
      "outputs": [
        {
          "output_type": "stream",
          "name": "stdout",
          "text": [
            "2550\n"
          ]
        }
      ]
    },
    {
      "cell_type": "markdown",
      "source": [],
      "metadata": {
        "id": "0uAwV2H1QAb9"
      }
    },
    {
      "cell_type": "markdown",
      "source": [
        "Punto 3"
      ],
      "metadata": {
        "id": "dVZUY8fiPPQY"
      }
    },
    {
      "cell_type": "code",
      "source": [
        "num=9\n",
        "for i in range(1,9+1):\n",
        "  for j in range(1,i+1):\n",
        "    print(j, end=\"\")\n",
        "  print()\n"
      ],
      "metadata": {
        "colab": {
          "base_uri": "https://localhost:8080/"
        },
        "id": "QTq6EgT_PRdU",
        "outputId": "5005c0a8-1347-4052-c7e5-f32540a57c6a"
      },
      "execution_count": null,
      "outputs": [
        {
          "output_type": "stream",
          "name": "stdout",
          "text": [
            "1\n",
            "12\n",
            "123\n",
            "1234\n",
            "12345\n",
            "123456\n",
            "1234567\n",
            "12345678\n",
            "123456789\n"
          ]
        }
      ]
    },
    {
      "cell_type": "markdown",
      "source": [
        "Punto 4"
      ],
      "metadata": {
        "id": "RNLvtmGpQ-xv"
      }
    },
    {
      "cell_type": "code",
      "source": [
        "num=int(input(\"Ingrese un número entero positivo: \"))\n",
        "divisor=1\n",
        "while divisor<num:\n",
        "  if num % divisor ==0:\n",
        "    print(\"El numero no es primo.\")\n",
        "    break\n",
        "  else:\n",
        "    print(\"El numero es primo.\")\n",
        "    break\n"
      ],
      "metadata": {
        "colab": {
          "base_uri": "https://localhost:8080/"
        },
        "id": "6-MCClxIQ9cD",
        "outputId": "a0fc2300-9b52-4a7e-bb09-9198a3ffe225"
      },
      "execution_count": 2,
      "outputs": [
        {
          "output_type": "stream",
          "name": "stdout",
          "text": [
            "Ingrese un número entero positivo: 5\n",
            "El numero no es primo.\n"
          ]
        }
      ]
    },
    {
      "cell_type": "markdown",
      "source": [
        "Punto 6"
      ],
      "metadata": {
        "id": "HBu9t8SwYULi"
      }
    },
    {
      "cell_type": "code",
      "source": [
        "numero = int(input(\"Ingrese un número entero positivo: \"))\n",
        "\n",
        "if numero <= 0:\n",
        "    print(\"Por favor, ingrese un número entero positivo.\")\n",
        "else:\n",
        "    for i in range(numero, 0, -1):\n",
        "        print(i)"
      ],
      "metadata": {
        "colab": {
          "base_uri": "https://localhost:8080/"
        },
        "id": "6bd3lKDChHL9",
        "outputId": "c7e18684-3a28-472e-8e67-a38de3720888"
      },
      "execution_count": 3,
      "outputs": [
        {
          "output_type": "stream",
          "name": "stdout",
          "text": [
            "Ingrese un número entero positivo: 6\n",
            "6\n",
            "5\n",
            "4\n",
            "3\n",
            "2\n",
            "1\n"
          ]
        }
      ]
    },
    {
      "cell_type": "markdown",
      "source": [
        "punto 7"
      ],
      "metadata": {
        "id": "x0d-2cfH1LJ3"
      }
    },
    {
      "cell_type": "code",
      "source": [
        "# Solicitar al usuario un valor máximo para la secuencia de Fibonacci\n",
        "n = int(input(\"Ingrese un valor máximo para la secuencia de Fibonacci: \"))\n",
        "\n",
        "# Inicializar los primeros dos números de la secuencia\n",
        "fibonacci_anterior = 0\n",
        "fibonacci_actual = 1\n",
        "\n",
        "# Imprimir el primer número (0) ya que es parte de la secuencia\n",
        "print(fibonacci_anterior, end=\" \")\n",
        "\n",
        "# Utilizar un ciclo while para generar y mostrar la secuencia de Fibonacci\n",
        "while fibonacci_actual <= n:\n",
        "    print(fibonacci_actual, end=\" \")\n",
        "\n",
        "    # Calcular el siguiente número de Fibonacci\n",
        "    fibonacci_siguiente = fibonacci_anterior + fibonacci_actual\n",
        "\n",
        "    # Actualizar los valores para la próxima iteración\n",
        "    fibonacci_anterior = fibonacci_actual\n",
        "    fibonacci_actual = fibonacci_siguiente\n",
        "\n",
        "print()  # Salto de línea al final para una salida ordenada"
      ],
      "metadata": {
        "colab": {
          "base_uri": "https://localhost:8080/"
        },
        "id": "kv7Kcg3t1Pq2",
        "outputId": "9dea7531-fd69-4fa2-8cec-5b6ead6bd51b"
      },
      "execution_count": 8,
      "outputs": [
        {
          "output_type": "stream",
          "name": "stdout",
          "text": [
            "Ingrese un valor máximo para la secuencia de Fibonacci: 8\n",
            "0 1 1 2 3 5 8 \n"
          ]
        }
      ]
    },
    {
      "cell_type": "markdown",
      "source": [
        "punto 8\n"
      ],
      "metadata": {
        "id": "6wmAlCbF2ZFs"
      }
    },
    {
      "cell_type": "code",
      "source": [
        "\n",
        "numero = int(input(\"Ingrese un número entero positivo: \"))\n",
        "\n",
        "if numero <= 0:\n",
        "    print(\"Por favor, ingrese un número entero positivo.\")\n",
        "else:\n",
        "    suma_digitos = 0\n",
        "\n",
        "    while numero > 0:\n",
        "        digito = numero % 10\n",
        "        suma_digitos += digito\n",
        "        numero //= 10\n",
        "\n",
        "    print(\"La suma de los dígitos es:\", suma_digitos)"
      ],
      "metadata": {
        "colab": {
          "base_uri": "https://localhost:8080/"
        },
        "id": "DSJPqwMK2gtv",
        "outputId": "4e3d8b3c-2b0a-4f4a-e1df-2b0dacf61a39"
      },
      "execution_count": 15,
      "outputs": [
        {
          "output_type": "stream",
          "name": "stdout",
          "text": [
            "Ingrese un número entero positivo: 8\n",
            "La suma de los dígitos es: 8\n"
          ]
        }
      ]
    }
  ]
}