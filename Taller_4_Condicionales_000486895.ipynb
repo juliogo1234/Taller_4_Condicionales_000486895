{
  "nbformat": 4,
  "nbformat_minor": 0,
  "metadata": {
    "colab": {
      "provenance": [],
      "authorship_tag": "ABX9TyNr2TOlc/gLZ/WDb4bwRD2W",
      "include_colab_link": true
    },
    "kernelspec": {
      "name": "python3",
      "display_name": "Python 3"
    },
    "language_info": {
      "name": "python"
    }
  },
  "cells": [
    {
      "cell_type": "markdown",
      "metadata": {
        "id": "view-in-github",
        "colab_type": "text"
      },
      "source": [
        "<a href=\"https://colab.research.google.com/github/juliogo1234/Taller_4_Condicionales_000486895/blob/main/Taller_4_Condicionales_000486895.ipynb\" target=\"_parent\"><img src=\"https://colab.research.google.com/assets/colab-badge.svg\" alt=\"Open In Colab\"/></a>"
      ]
    },
    {
      "cell_type": "markdown",
      "source": [
        "# Taller_4_Estructura_Selectiva_Doble_000486895\n",
        "### Curso de programacion y algorirmia UPB 202320\n",
        "- Nombre: Julio Jaramillo\n",
        "- ID: 000486895"
      ],
      "metadata": {
        "id": "OykQBlISbCOO"
      }
    },
    {
      "cell_type": "code",
      "execution_count": 6,
      "metadata": {
        "colab": {
          "base_uri": "https://localhost:8080/"
        },
        "id": "6tGv7g9Ka-_B",
        "outputId": "e5d42f86-db5c-4c6c-e8cb-d84767513b7a"
      },
      "outputs": [
        {
          "output_type": "stream",
          "name": "stdout",
          "text": [
            "Ingresa tu calificacion de (0 a 5): 2.999\n",
            "Usted a desaprobado, repite el curso\n"
          ]
        }
      ],
      "source": [
        "x = float(input(\"Ingresa tu calificacion de (0 a 5): \"))\n",
        "\n",
        "if x >= 3:\n",
        "  print(\"Felicidades, ganaste la materia\")\n",
        "\n",
        "else:\n",
        "  print(\"Usted a desaprobado, repite el curso\")\n"
      ]
    },
    {
      "cell_type": "code",
      "source": [
        "x = float(input(\"Ingresa un numero: \"))\n",
        "\n",
        "if x > 0:\n",
        "  print(\"el numero\", x, \"es Positivo\")\n",
        "\n",
        "if x < 0:\n",
        "  print(\"el numero\", x, \"es negativo\")\n",
        "\n",
        "if x == 0:\n",
        "  print(\"el numero\", x, \"es neutral\")"
      ],
      "metadata": {
        "colab": {
          "base_uri": "https://localhost:8080/"
        },
        "id": "rNfmc-kZbUGe",
        "outputId": "8e415069-99a8-4adf-deee-0f00d2bf52f3"
      },
      "execution_count": 14,
      "outputs": [
        {
          "output_type": "stream",
          "name": "stdout",
          "text": [
            "Ingresa un numero: -43\n",
            "el numero -43.0 es negativo\n"
          ]
        }
      ]
    },
    {
      "cell_type": "code",
      "source": [
        "x = input(\"ingresa la contraseña: \")\n",
        "\n",
        "if x == \"python123\":\n",
        "  print(\"Contraseña válida\")\n",
        "\n",
        "else:\n",
        "  print(\"Contraseña inválida\")"
      ],
      "metadata": {
        "colab": {
          "base_uri": "https://localhost:8080/"
        },
        "id": "IcJ44mlUbWXa",
        "outputId": "f9182624-66a1-4e6a-e390-d62918cc636b"
      },
      "execution_count": 15,
      "outputs": [
        {
          "output_type": "stream",
          "name": "stdout",
          "text": [
            "ingresa la contraseña: cocacola12\n",
            "Contraseña inválida\n"
          ]
        }
      ]
    },
    {
      "cell_type": "code",
      "source": [
        "x = float(int(input(\"ingresa un numero: \")))\n",
        "\n",
        "if x % 2 == 0:\n",
        "  print(\"El numero es par\")\n",
        "\n",
        "else:\n",
        "  print(\"El numero es impar\")"
      ],
      "metadata": {
        "colab": {
          "base_uri": "https://localhost:8080/"
        },
        "id": "8GbOiDRhbXsu",
        "outputId": "dc1c47e1-d0e3-47ac-fef2-619be209b13b"
      },
      "execution_count": 16,
      "outputs": [
        {
          "output_type": "stream",
          "name": "stdout",
          "text": [
            "ingresa un numero: 3\n",
            "El numero es impar\n"
          ]
        }
      ]
    },
    {
      "cell_type": "code",
      "source": [
        "N1 = float(input(\"ingresa un numero: \"))\n",
        "N2 = float(input(\"ingresa un numero: \"))\n",
        "N3 = float(input(\"ingresa un numero: \"))\n",
        "N4 = float(input(\"ingresa un numero: \"))\n",
        "N5 = float(input(\"ingresa un numero: \"))\n",
        "\n",
        "mayor = N1\n",
        "\n",
        "if N2 > mayor:\n",
        "    mayor = N2\n",
        "\n",
        "if N3 > mayor:\n",
        "    mayor = N3\n",
        "\n",
        "if N4 > mayor:\n",
        "    mayor = N4\n",
        "\n",
        "if N5 > mayor:\n",
        "    mayor = N5\n",
        "\n",
        "else : print(\"El número mayor es:\",mayor)\n"
      ],
      "metadata": {
        "colab": {
          "base_uri": "https://localhost:8080/"
        },
        "id": "ZKILX0igbZZ2",
        "outputId": "b1f7b06d-1fcc-43f1-93c7-22fab0506be3"
      },
      "execution_count": 17,
      "outputs": [
        {
          "output_type": "stream",
          "name": "stdout",
          "text": [
            "ingresa un numero: 1\n",
            "ingresa un numero: 3\n",
            "ingresa un numero: 6\n",
            "ingresa un numero: 235\n",
            "ingresa un numero: 4\n",
            "El número mayor es: 235.0\n"
          ]
        }
      ]
    },
    {
      "cell_type": "code",
      "source": [
        "edad = float(input(\"ingresa tu edad \"))\n",
        "\n",
        "if 0 <= edad <= 12:\n",
        "  rango = \"niño\"\n",
        "\n",
        "elif 13 <= edad <= 19:\n",
        "  rango = \"adolecente\"\n",
        "\n",
        "elif 20 <= edad <= 64:\n",
        "  rango = \"adulto\"\n",
        "\n",
        "else:\n",
        "   rango = \"viejo\"\n",
        "\n",
        "print(\"eres un\",rango)"
      ],
      "metadata": {
        "colab": {
          "base_uri": "https://localhost:8080/"
        },
        "id": "dy5smMQhbbAF",
        "outputId": "a4341884-933b-4bcf-b1c5-72c44a2743ed"
      },
      "execution_count": 25,
      "outputs": [
        {
          "output_type": "stream",
          "name": "stdout",
          "text": [
            "ingresa tu edad 24\n",
            "eres un adulto\n"
          ]
        }
      ]
    }
  ]
}